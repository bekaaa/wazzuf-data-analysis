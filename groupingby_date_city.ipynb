{
 "cells": [
  {
   "cell_type": "markdown",
   "metadata": {},
   "source": [
    "# Changes over time\n",
    "\n",
    "My target here is generate :  \n",
    "1. the columns ('count', 'salary_min', 'min_experience_years', 'views','salary_max', 'num_vacancies'), grouped by date.\n",
    "2. the same columns grouped by both city_name and date."
   ]
  },
  {
   "cell_type": "code",
   "execution_count": 11,
   "metadata": {
    "collapsed": true
   },
   "outputs": [],
   "source": [
    "import pandas as pd\n",
    "import numpy as np\n",
    "import re\n",
    "import json"
   ]
  },
  {
   "cell_type": "code",
   "execution_count": 4,
   "metadata": {
    "collapsed": false
   },
   "outputs": [],
   "source": [
    "# make a column for minimum_experience_years\n",
    "def calc_min_experince_years(row):\n",
    "    row.min_experience_years = int(re.findall('^[^0-9]*([0-9]+)[^0-9]*',row.min_experience_years)[0])\n",
    "    return row"
   ]
  },
  {
   "cell_type": "code",
   "execution_count": 5,
   "metadata": {
    "collapsed": false
   },
   "outputs": [],
   "source": [
    "# first group them by date and sabe to file \n",
    "data = pd.read_csv('./data/generated/wazzuf/wuzzuf_data_formatedate.csv')\n",
    "\n",
    "data.drop(['id','displayed_job_title','job_category_1','job_category_2','job_category_3','job_industry_1',\n",
    "          'job_industry_2','job_industry_3','career_level','city_name','description'\n",
    "          ,'job_requirements'], axis=1,inplace=True)\n",
    "\n",
    "try :\n",
    "    data.columns.values[ data.columns.values == 'experience_years'] = 'min_experience_years'\n",
    "except:\n",
    "    pass\n",
    "\n",
    "data = data.apply(calc_min_experince_years, axis=1)\n",
    "\n",
    "data['count'] = 1\n",
    "\n",
    "grouped_data = data.groupby('post_date').agg({'salary_min':'median','salary_max':'median',\n",
    "                                                            'num_vacancies':'sum','min_experience_years':'median',\n",
    "                                                            'views':'sum','count':'count'})\n",
    "\n",
    "data.to_csv('./data/generated/wazzuf/wuzzuf_data_grouped_by_date.csv')"
   ]
  },
  {
   "cell_type": "code",
   "execution_count": 53,
   "metadata": {
    "collapsed": false
   },
   "outputs": [],
   "source": [
    "# now group them by both date and city_name and save to files ( a file for each city).\n",
    "data = pd.read_csv('./data/generated/wazzuf/wuzzuf_data_with_some_cities.csv')\n",
    "data.drop(['id','displayed_job_title','job_category_1','job_category_2','job_category_3','job_industry_1',\n",
    "          'job_industry_2','job_industry_3','career_level'], axis=1,inplace=True)\n",
    "\n",
    "try :\n",
    "    data.columns.values[ data.columns.values == 'experience_years'] = 'min_experience_years'\n",
    "except:\n",
    "    pass\n",
    "\n",
    "data = data.apply(calc_min_experince_years, axis=1)\n",
    "\n",
    "data['count'] = 1\n",
    "\n",
    "grouped_data = data.groupby(['city_name','post_date']).agg({'salary_min':'median','salary_max':'median',\n",
    "                                                            'num_vacancies':'sum','min_experience_years':'median',\n",
    "                                                            'views':'sum','count':'count'})\n",
    "\n",
    "for city_name in grouped_data.index.levels[0]:\n",
    "    df = grouped_data.loc[city_name].apply(lambda x:(x-x.min())/(x.max()-x.min()), axis=0)\n",
    "    df.to_csv('./data/generated/wazzuf/'+city_name+'.csv')"
   ]
  },
  {
   "cell_type": "code",
   "execution_count": 8,
   "metadata": {
    "collapsed": false
   },
   "outputs": [],
   "source": [
    "# and now normalize the grouped data to values between 0 and 1 , and save to file.\n",
    "normal_data = grouped_data.apply(lambda x:(x-x.min())/(x.max()-x.min()), axis=0)\n",
    "normal_data.to_csv('./data/generated/wazzuf/wuzzuf_data_normalized.csv')"
   ]
  },
  {
   "cell_type": "markdown",
   "metadata": {
    "collapsed": false
   },
   "source": [
    "-------------"
   ]
  }
 ],
 "metadata": {
  "anaconda-cloud": {},
  "kernelspec": {
   "display_name": "Python [default]",
   "language": "python",
   "name": "python2"
  }
 },
 "nbformat": 4,
 "nbformat_minor": 1
}
