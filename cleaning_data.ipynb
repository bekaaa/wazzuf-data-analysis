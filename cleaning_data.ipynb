{
 "cells": [
  {
   "cell_type": "code",
   "execution_count": 82,
   "metadata": {
    "collapsed": false
   },
   "outputs": [],
   "source": [
    "%matplotlib inline \n",
    "import pandas as pd\n",
    "import numpy as np\n",
    "import re\n",
    "import json\n",
    "import matplotlib.pyplot as plt\n",
    "import matplotlib\n",
    "plt.style.use('ggplot')"
   ]
  },
  {
   "cell_type": "code",
   "execution_count": 2,
   "metadata": {
    "collapsed": true
   },
   "outputs": [],
   "source": [
    "data = pd.read_csv('./wuzzuf-data/data_science_dataset_wuzzuf.csv')"
   ]
  },
  {
   "cell_type": "code",
   "execution_count": 3,
   "metadata": {
    "collapsed": false
   },
   "outputs": [
    {
     "name": "stdout",
     "output_type": "stream",
     "text": [
      "** there are  478 unique city name\n",
      "**  104  unique city names after filteration\n",
      "**  6  Arabic city names\n",
      "**  98  English city names\n"
     ]
    }
   ],
   "source": [
    "# cleaning The \"city_name\" column \n",
    "# my target is to add each city to same name.\n",
    "# print the unique city names entered.\n",
    "\n",
    "unique_cities = np.unique(data.city_name)\n",
    "print \"** there are \", len(np.unique(data.city_name)), \"unique city name\"\n",
    "with open('./munging-data/unique_cities_unexpanded','wb') as f:\n",
    "    for item in np.unique(data.city_name):\n",
    "        f.write(item+\"\\n\")\n",
    "\n",
    "value_counts = data.city_name.value_counts()\n",
    "unique_above_x = value_counts[value_counts>=3].keys()\n",
    "\n",
    "unique_extracted = np.unique([ city.lower().strip() for city in unique_above_x ]) \n",
    "unique_extracted = [ re.split('[.,/&\\-]|\\sand\\s|\\sor\\s',city,re.UNICODE) for city in unique_extracted ]\n",
    "\n",
    "unique_list = [ s.strip() for item in unique_extracted for s in item  ]\n",
    "unique_list = np.unique(unique_list)\n",
    "\n",
    "with open('./munging-data/unique_cities_expanded','wb') as f:\n",
    "    for item in unique_list:\n",
    "        f.write(item+'\\n')\n",
    "\n",
    "english_pattern = re.compile('^[\\d\\w\\s]*$')\n",
    "unique_english_list = []\n",
    "unique_arabic_list = []\n",
    "for city in unique_list:\n",
    "    if english_pattern.match(city) :\n",
    "        unique_english_list.append(city)\n",
    "    else:\n",
    "        unique_arabic_list.append(city)  \n",
    "\n",
    "print \"** \", len(unique_list), \" unique city names after filteration\"\n",
    "print \"** \", len(unique_arabic_list), \" Arabic city names\"\n",
    "print \"** \", len(unique_english_list), \" English city names\"        "
   ]
  },
  {
   "cell_type": "code",
   "execution_count": 4,
   "metadata": {
    "collapsed": false
   },
   "outputs": [],
   "source": [
    "with open('./munging-data/cities_names_dict.json','rb') as f:\n",
    "    cities_dict = json.load(f)"
   ]
  },
  {
   "cell_type": "code",
   "execution_count": 5,
   "metadata": {
    "collapsed": false
   },
   "outputs": [],
   "source": [
    "def clean_city_name(d):\n",
    "    city_name = d.city_name.lower().strip()\n",
    "    cities = re.split('[.,/&\\-]|\\sand\\s|\\sor\\s',city_name)\n",
    "    new_cities = []\n",
    "    for c in cities :\n",
    "        if c == \"\": break;\n",
    "        flag = True\n",
    "        for item in cities_dict :\n",
    "            for ii in cities_dict[item] :\n",
    "                if re.search(ii, c) :\n",
    "                    new_cities.append(item);\n",
    "                    flag = False;\n",
    "                    break\n",
    "        if flag == True :\n",
    "            new_cities.append(\"other('\"+c.lower().strip()+\"')\")\n",
    "    \n",
    "    cities_str = \"\"\n",
    "    for c in new_cities :\n",
    "        if cities_str == \"\" : \n",
    "            cities_str += c\n",
    "        else : \n",
    "            cities_str = cities_str +\", \"+c\n",
    "    d.city_name = cities_str\n",
    "    return d\n",
    "                \n",
    "new_data = data.apply(clean_city_name, axis=1)\n",
    "# 297 others, and 21,533 checked"
   ]
  },
  {
   "cell_type": "code",
   "execution_count": 6,
   "metadata": {
    "collapsed": false,
    "scrolled": false
   },
   "outputs": [],
   "source": [
    "df2 = pd.DataFrame(columns=new_data.columns)\n",
    "for x in new_data.iterrows() :\n",
    "    index = x[0]\n",
    "    row = x[1]\n",
    "    if re.search(\", \", row.city_name):\n",
    "        df2.loc[len(df2)] = row\n",
    "        new_data.drop(index, inplace=True)\n"
   ]
  },
  {
   "cell_type": "code",
   "execution_count": 7,
   "metadata": {
    "collapsed": false
   },
   "outputs": [],
   "source": [
    "indexend = len(df2)\n",
    "for x in df2.iterrows():\n",
    "    index = x[0]\n",
    "    row = x[1]\n",
    "    cities = row.city_name.split(', ')\n",
    "    for city in cities :\n",
    "        alt = row\n",
    "        alt.city_name = city\n",
    "        df2.loc[indexend] = alt\n",
    "        indexend += 1 \n",
    "    df2.drop(index,inplace=True)\n",
    "        "
   ]
  },
  {
   "cell_type": "code",
   "execution_count": 8,
   "metadata": {
    "collapsed": false
   },
   "outputs": [],
   "source": [
    "df2.reset_index(drop=True, inplace=True)\n",
    "new_data.reset_index(drop=True, inplace=True)\n",
    "\n",
    "index = len(new_data)\n",
    "for x in df2.iterrows():\n",
    "    row = x[1]\n",
    "    new_data.loc[index] = row\n",
    "    index += 1;"
   ]
  },
  {
   "cell_type": "code",
   "execution_count": 9,
   "metadata": {
    "collapsed": false
   },
   "outputs": [],
   "source": [
    "data_otherCities_filtered = new_data.copy()\n",
    "for x in data_otherCities_filtered.iterrows():\n",
    "    index, row = x\n",
    "    if re.search('other', row.city_name):\n",
    "        data_otherCities_filtered.drop(index, inplace=True)\n",
    "data_otherCities_filtered.reset_index(drop=True, inplace=True)\n",
    "data_otherCities_filtered.to_csv('./wuzzuf-data/wuzzuf_data_with_cityname_cleanedandfiltered.csv',index=False)"
   ]
  },
  {
   "cell_type": "code",
   "execution_count": 30,
   "metadata": {
    "collapsed": false,
    "scrolled": true
   },
   "outputs": [],
   "source": [
    "data_otherCities_filtered_noDescription = data_otherCities_filtered.drop(\n",
    "    [\"description\",'job_requirements'], axis=1) \n",
    "data_otherCities_filtered_noDescription.to_csv(\n",
    "    './wuzzuf-data/wuzzuf_data_with_cityname_cleanedandfiltered_noDescription.csv', index=False)"
   ]
  },
  {
   "cell_type": "code",
   "execution_count": null,
   "metadata": {
    "collapsed": false
   },
   "outputs": [],
   "source": [
    "plt."
   ]
  },
  {
   "cell_type": "code",
   "execution_count": 32,
   "metadata": {
    "collapsed": false
   },
   "outputs": [
    {
     "data": {
      "text/plain": [
       "cairo               15653\n",
       "giza                 4117\n",
       "alexandria           1162\n",
       "6th of october        225\n",
       "10th of ramadan       155\n",
       "mansoura              140\n",
       "any                   124\n",
       "ismailia               80\n",
       "monufia                61\n",
       "Assiut                 54\n",
       "tanta                  49\n",
       "suez                   40\n",
       "el-obour               39\n",
       "el-sharqia             30\n",
       "hurghada               28\n",
       "port-said              24\n",
       "qalyubia               20\n",
       "bani suef              19\n",
       "minya                  19\n",
       "el-gharbia             16\n",
       "damietta               16\n",
       "red sea                16\n",
       "aswan                  15\n",
       "behira                 14\n",
       "delta                  12\n",
       "dakahlia               12\n",
       "remote                 11\n",
       "qena                    9\n",
       "el-sadat                9\n",
       "el-ain el-sokhna        9\n",
       "zagazig                 8\n",
       "sharm el-sheikh         8\n",
       "kafr el-sheikh          8\n",
       "sohag                   8\n",
       "fayoum                  8\n",
       "south sinai             4\n",
       "the canal               4\n",
       "marsa alam              3\n",
       "Name: city_name, dtype: int64"
      ]
     },
     "execution_count": 32,
     "metadata": {},
     "output_type": "execute_result"
    }
   ],
   "source": [
    "data_otherCities_filtered_noDescription.city_name.value_counts()"
   ]
  },
  {
   "cell_type": "code",
   "execution_count": 67,
   "metadata": {
    "collapsed": false
   },
   "outputs": [],
   "source": [
    "cities_value_counts = data_otherCities_filtered_noDescription.city_name.value_counts()\n",
    "cities_to_keep = cities_value_counts[ cities_value_counts.keys() == 'giza' ].keys()\n",
    "\n",
    "data_with_cities_to_keep = data_otherCities_filtered_noDescription[ \n",
    "    data_otherCities_filtered_noDescription.city_name.isin(cities_to_keep) ]\n",
    "\n",
    "# format post_date to year-month\n",
    "def format_date(r):\n",
    "    r.post_date = re.findall(\"^\\d{4}-\\d{2}\", r.post_date)[0]\n",
    "    return r\n",
    "data_with_cities_to_keep = data_with_cities_to_keep.apply(format_date,axis=1)\n",
    "\n",
    "data_with_cities_to_keep.to_csv('./wuzzuf-data/wuzzuf_data_with_cities_to_keep.csv',index=False)"
   ]
  },
  {
   "cell_type": "code",
   "execution_count": null,
   "metadata": {
    "collapsed": true
   },
   "outputs": [],
   "source": [
    "cities = [u'cairo', u'giza', u'alexandria', u'6th of october', u'10th of ramadan',\n",
    "       u'mansoura', u'any']"
   ]
  },
  {
   "cell_type": "code",
   "execution_count": 93,
   "metadata": {
    "collapsed": false
   },
   "outputs": [
    {
     "data": {
      "text/plain": [
       "0                      Entry Level\n",
       "1                      Entry Level\n",
       "2                      Entry Level\n",
       "3                      Entry Level\n",
       "4        Experienced (Non-Manager)\n",
       "5        Experienced (Non-Manager)\n",
       "6        Experienced (Non-Manager)\n",
       "7        Experienced (Non-Manager)\n",
       "8                          Manager\n",
       "9                      Entry Level\n",
       "10       Experienced (Non-Manager)\n",
       "11       Experienced (Non-Manager)\n",
       "12       Experienced (Non-Manager)\n",
       "13       Experienced (Non-Manager)\n",
       "14       Experienced (Non-Manager)\n",
       "15                     Entry Level\n",
       "16                         Manager\n",
       "17       Experienced (Non-Manager)\n",
       "18                     Entry Level\n",
       "19       Experienced (Non-Manager)\n",
       "20       Experienced (Non-Manager)\n",
       "21                         Manager\n",
       "22       Experienced (Non-Manager)\n",
       "23                         Manager\n",
       "24       Experienced (Non-Manager)\n",
       "25       Experienced (Non-Manager)\n",
       "26                     Entry Level\n",
       "27       Experienced (Non-Manager)\n",
       "28       Experienced (Non-Manager)\n",
       "29       Experienced (Non-Manager)\n",
       "                   ...            \n",
       "22199                      Manager\n",
       "22200    Experienced (Non-Manager)\n",
       "22201    Experienced (Non-Manager)\n",
       "22202    Experienced (Non-Manager)\n",
       "22203                      Manager\n",
       "22204                      Manager\n",
       "22205    Experienced (Non-Manager)\n",
       "22206    Experienced (Non-Manager)\n",
       "22207                  Entry Level\n",
       "22208                  Entry Level\n",
       "22209                  Entry Level\n",
       "22210                  Entry Level\n",
       "22211                  Entry Level\n",
       "22212                      Manager\n",
       "22213                      Manager\n",
       "22214                      Manager\n",
       "22215                      Manager\n",
       "22216                      Manager\n",
       "22217                      Manager\n",
       "22218                      Manager\n",
       "22219                      Manager\n",
       "22220    Experienced (Non-Manager)\n",
       "22221    Experienced (Non-Manager)\n",
       "22222    Experienced (Non-Manager)\n",
       "22223    Experienced (Non-Manager)\n",
       "22224    Experienced (Non-Manager)\n",
       "22225    Experienced (Non-Manager)\n",
       "22226    Experienced (Non-Manager)\n",
       "22227    Experienced (Non-Manager)\n",
       "22228    Experienced (Non-Manager)\n",
       "Name: career_level, dtype: object"
      ]
     },
     "execution_count": 93,
     "metadata": {},
     "output_type": "execute_result"
    }
   ],
   "source": [
    "data_otherCities_filtered."
   ]
  },
  {
   "cell_type": "code",
   "execution_count": 83,
   "metadata": {
    "collapsed": false
   },
   "outputs": [
    {
     "data": {
      "text/plain": [
       "1408     37568.0\n",
       "1389     20000.0\n",
       "12064    19292.0\n",
       "21732    17949.0\n",
       "21733    17949.0\n",
       "303      17552.0\n",
       "627      16734.0\n",
       "18626    13806.0\n",
       "20601    13459.0\n",
       "3670     12662.0\n",
       "17357    12179.0\n",
       "4079     12040.0\n",
       "5735     11743.0\n",
       "14562    11702.0\n",
       "8764     11322.0\n",
       "20602    10935.0\n",
       "3746     10645.0\n",
       "1547     10611.0\n",
       "20603    10593.0\n",
       "10445    10444.0\n",
       "13235    10377.0\n",
       "4807     10266.0\n",
       "1627     10195.0\n",
       "3519      9779.0\n",
       "2579      9454.0\n",
       "21761     9306.0\n",
       "21762     9306.0\n",
       "6298      9133.0\n",
       "2472      9089.0\n",
       "19124     9058.0\n",
       "          ...   \n",
       "5274         0.0\n",
       "14888        0.0\n",
       "14887        0.0\n",
       "14881        0.0\n",
       "14874        0.0\n",
       "14852        0.0\n",
       "14850        0.0\n",
       "14845        0.0\n",
       "14841        0.0\n",
       "5221         0.0\n",
       "14829        0.0\n",
       "14713        0.0\n",
       "14697        0.0\n",
       "14685        0.0\n",
       "5280         0.0\n",
       "944          0.0\n",
       "20868        0.0\n",
       "5323         0.0\n",
       "14479        0.0\n",
       "5329         0.0\n",
       "20872        0.0\n",
       "960          0.0\n",
       "5334         0.0\n",
       "5351         0.0\n",
       "14438        0.0\n",
       "14433        0.0\n",
       "14410        0.0\n",
       "14407        0.0\n",
       "20888        0.0\n",
       "3817         0.0\n",
       "Name: views, dtype: float64"
      ]
     },
     "execution_count": 83,
     "metadata": {},
     "output_type": "execute_result"
    }
   ],
   "source": [
    "views"
   ]
  },
  {
   "cell_type": "code",
   "execution_count": null,
   "metadata": {
    "collapsed": true
   },
   "outputs": [],
   "source": []
  }
 ],
 "metadata": {
  "anaconda-cloud": {},
  "kernelspec": {
   "display_name": "Python [default]",
   "language": "python",
   "name": "python2"
  },
  "language_info": {
   "codemirror_mode": {
    "name": "ipython",
    "version": 2
   },
   "file_extension": ".py",
   "mimetype": "text/x-python",
   "name": "python",
   "nbconvert_exporter": "python",
   "pygments_lexer": "ipython2",
   "version": "2.7.12"
  }
 },
 "nbformat": 4,
 "nbformat_minor": 1
}
