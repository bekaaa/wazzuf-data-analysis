{
 "cells": [
  {
   "cell_type": "code",
   "execution_count": 1,
   "metadata": {
    "collapsed": false
   },
   "outputs": [],
   "source": [
    "import pandas as pd\n",
    "import numpy as np\n",
    "import re\n",
    "import json\n",
    "import pprint"
   ]
  },
  {
   "cell_type": "code",
   "execution_count": 2,
   "metadata": {
    "collapsed": true
   },
   "outputs": [],
   "source": [
    "data = pd.read_csv('./wuzzuf-data/data_science_dataset_wuzzuf.csv')"
   ]
  },
  {
   "cell_type": "code",
   "execution_count": 60,
   "metadata": {
    "collapsed": false
   },
   "outputs": [
    {
     "name": "stdout",
     "output_type": "stream",
     "text": [
      "** there are  478 unique city name\n",
      "**  104  unique city names after filteration\n",
      "**  6  Arabic city names\n",
      "**  98  English city names\n"
     ]
    }
   ],
   "source": [
    "# cleaning The \"city_name\" column \n",
    "# my target is to add each city to same name.\n",
    "# print the unique city names entered.\n",
    "\n",
    "\n",
    "\n",
    "unique_cities = np.unique(data.city_name)\n",
    "print \"** there are \", len(np.unique(data.city_name)), \"unique city name\"\n",
    "with open('./munging-data/unique_cities_unexpanded','wb') as f:\n",
    "    for item in np.unique(data.city_name):\n",
    "        f.write(item+\"\\n\")\n",
    "\n",
    "value_counts = data.city_name.value_counts()\n",
    "unique_above_x = value_counts[value_counts>=3].keys()\n",
    "\n",
    "unique_extracted = np.unique([ city.lower().strip() for city in unique_above_x ]) \n",
    "unique_extracted = [ re.split('[.,/&\\-]|\\sand\\s|\\sor\\s',city,re.UNICODE) for city in unique_extracted ]\n",
    "\n",
    "unique_list = [ s.strip() for item in unique_extracted for s in item  ]\n",
    "unique_list = np.unique(unique_list)\n",
    "\n",
    "with open('./munging-data/unique_cities_expanded','wb') as f:\n",
    "    for item in unique_list:\n",
    "        f.write(item+'\\n')\n",
    "\n",
    "english_pattern = re.compile('^[\\d\\w\\s]*$')\n",
    "unique_english_list = []\n",
    "unique_arabic_list = []\n",
    "for city in unique_list:\n",
    "    if english_pattern.match(city) :\n",
    "        unique_english_list.append(city)\n",
    "    else:\n",
    "        unique_arabic_list.append(city)  \n",
    "\n",
    "print \"** \", len(unique_list), \" unique city names after filteration\"\n",
    "print \"** \", len(unique_arabic_list), \" Arabic city names\"\n",
    "print \"** \", len(unique_english_list), \" English city names\"        "
   ]
  },
  {
   "cell_type": "code",
   "execution_count": 62,
   "metadata": {
    "collapsed": false
   },
   "outputs": [],
   "source": [
    "with open('./munging-data/cities_names_dict.json','rb') as f:\n",
    "    cities_dict = json.load(f)"
   ]
  },
  {
   "cell_type": "code",
   "execution_count": 61,
   "metadata": {
    "collapsed": false
   },
   "outputs": [],
   "source": [
    "def clean_city_name(d):\n",
    "    city_name = d.city_name.lower().strip()\n",
    "    cities = re.split('[.,/&\\-]|\\sand\\s|\\sor\\s',city_name)\n",
    "    new_cities = []\n",
    "    for c in cities :\n",
    "        if c == \"\": break;\n",
    "        flag = True\n",
    "        for item in cities_dict :\n",
    "            for ii in cities_dict[item] :\n",
    "                if re.search(ii, c) :\n",
    "                    new_cities.append(item);\n",
    "                    flag = False;\n",
    "                    break\n",
    "        if flag == True :\n",
    "            new_cities.append(\"other('\"+c.lower().strip()+\"')\")\n",
    "    \n",
    "    cities_str = \"\"\n",
    "    for c in new_cities :\n",
    "        if cities_str == \"\" : \n",
    "            cities_str += c\n",
    "        else : \n",
    "            cities_str = cities_str +\", \"+c\n",
    "    d.city_name = cities_str\n",
    "    return d\n",
    "                \n",
    "new_data = data.apply(clean_city_name, axis=1)\n",
    "# 297 others, and 21,533 checked"
   ]
  },
  {
   "cell_type": "code",
   "execution_count": 63,
   "metadata": {
    "collapsed": false,
    "scrolled": false
   },
   "outputs": [],
   "source": [
    "df2 = pd.DataFrame(columns=new_data.columns)\n",
    "for x in new_data.iterrows() :\n",
    "    index = x[0]\n",
    "    row = x[1]\n",
    "    if re.search(\", \", row.city_name):\n",
    "        df2.loc[len(df2)] = row\n",
    "        new_data.drop(index, inplace=True)\n"
   ]
  },
  {
   "cell_type": "code",
   "execution_count": 64,
   "metadata": {
    "collapsed": false
   },
   "outputs": [],
   "source": [
    "indexend = len(df2)\n",
    "for x in df2.iterrows():\n",
    "    index = x[0]\n",
    "    row = x[1]\n",
    "    cities = row.city_name.split(', ')\n",
    "    for city in cities :\n",
    "        alt = row\n",
    "        alt.city_name = city\n",
    "        df2.loc[indexend] = alt\n",
    "        indexend += 1 \n",
    "    df2.drop(index,inplace=True)\n",
    "        "
   ]
  },
  {
   "cell_type": "code",
   "execution_count": 65,
   "metadata": {
    "collapsed": false
   },
   "outputs": [],
   "source": [
    "df2.reset_index(drop=True, inplace=True)\n",
    "new_data.reset_index(drop=True, inplace=True)\n",
    "\n",
    "index = len(new_data)\n",
    "for x in df2.iterrows():\n",
    "    row = x[1]\n",
    "    new_data.loc[index] = row\n",
    "    index += 1;"
   ]
  },
  {
   "cell_type": "code",
   "execution_count": 66,
   "metadata": {
    "collapsed": false
   },
   "outputs": [],
   "source": [
    "data_otherCities_filtered = new_data.copy()\n",
    "for x in data_otherCities_filtered.iterrows():\n",
    "    index, row = x\n",
    "    if re.search('other', row.city_name):\n",
    "        data_otherCities_filtered.drop(index, inplace=True)\n",
    "data_otherCities_filtered.reset_index(drop=True, inplace=True)\n",
    "data_otherCities_filtered.to_csv('./wuzzuf-data/wuzzuf_data_with_cityname_cleanedandfiltered.csv',index=False)"
   ]
  },
  {
   "cell_type": "code",
   "execution_count": null,
   "metadata": {
    "collapsed": false
   },
   "outputs": [],
   "source": []
  },
  {
   "cell_type": "code",
   "execution_count": null,
   "metadata": {
    "collapsed": false,
    "scrolled": true
   },
   "outputs": [],
   "source": []
  },
  {
   "cell_type": "code",
   "execution_count": null,
   "metadata": {
    "collapsed": false
   },
   "outputs": [],
   "source": []
  },
  {
   "cell_type": "code",
   "execution_count": null,
   "metadata": {
    "collapsed": true
   },
   "outputs": [],
   "source": []
  }
 ],
 "metadata": {
  "anaconda-cloud": {},
  "kernelspec": {
   "display_name": "Python [default]",
   "language": "python",
   "name": "python2"
  },
  "language_info": {
   "codemirror_mode": {
    "name": "ipython",
    "version": 2
   },
   "file_extension": ".py",
   "mimetype": "text/x-python",
   "name": "python",
   "nbconvert_exporter": "python",
   "pygments_lexer": "ipython2",
   "version": "2.7.12"
  }
 },
 "nbformat": 4,
 "nbformat_minor": 1
}
