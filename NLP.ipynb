{
 "cells": [
  {
   "cell_type": "markdown",
   "metadata": {},
   "source": [
    "# Text processing\n",
    "\n",
    "applying NLP techniques to the two columns \" job requirements and descriptions \"."
   ]
  },
  {
   "cell_type": "code",
   "execution_count": 1,
   "metadata": {
    "collapsed": false
   },
   "outputs": [],
   "source": [
    "# -*- coding: utf-8 -*-\n",
    "import pandas as pd\n",
    "import numpy as np\n",
    "import re\n",
    "import unicodedata\n",
    "import operator\n",
    "from nltk.corpus import stopwords\n",
    "from nltk.tokenize import word_tokenize\n",
    "from nltk.stem.snowball import SnowballStemmer"
   ]
  },
  {
   "cell_type": "code",
   "execution_count": 2,
   "metadata": {
    "collapsed": false
   },
   "outputs": [],
   "source": [
    "# remove all html tags from a document. [ return a document ]\n",
    "def remove_tags(document):\n",
    "    # remove non-english letters ( arabic letters.)\n",
    "    document = unicodedata.normalize('NFKD',document.decode('utf-8')).encode('ascii','ignore')\n",
    "    # set the pattern then remove all matches.\n",
    "    tag_pattern = re.compile('(</*\\w+\\s*/*>)|(<span style=\".*\">)|[\\r\\n,]|(&\\w+;)')\n",
    "    document = tag_pattern.sub('',document)\n",
    "    return document\n",
    "\n",
    "# remove stop words and stem the words in a document. [ return a list of filtered&stemmed words]\n",
    "def filter_stem_doc(document):\n",
    "    # stop words filteration \n",
    "    stop_words = set(stopwords.words('english'))\n",
    "    word_tokens = word_tokenize(document)\n",
    "    filtered_words = [ w for w in word_tokens if not w in stop_words and len(w) > 1 ]\n",
    "    # stemming words.\n",
    "    sbstem = SnowballStemmer('english')\n",
    "    stemmed_words = [ sbstem.stem(w) for w in filtered_words ] \n",
    "    \n",
    "    return stemmed_words"
   ]
  },
  {
   "cell_type": "code",
   "execution_count": 4,
   "metadata": {
    "collapsed": false
   },
   "outputs": [],
   "source": [
    "data = pd.read_csv('./data/fixed/data_science_dataset_wuzzuf.csv')"
   ]
  },
  {
   "cell_type": "code",
   "execution_count": 5,
   "metadata": {
    "collapsed": false
   },
   "outputs": [
    {
     "ename": "IOError",
     "evalue": "[Errno 2] No such file or directory: './munging-data/requirements_words_freq.csv'",
     "output_type": "error",
     "traceback": [
      "\u001b[0;31m---------------------------------------------------------------------------\u001b[0m",
      "\u001b[0;31mIOError\u001b[0m                                   Traceback (most recent call last)",
      "\u001b[0;32m<ipython-input-5-bbf207f5e9b2>\u001b[0m in \u001b[0;36m<module>\u001b[0;34m()\u001b[0m\n\u001b[1;32m     25\u001b[0m \u001b[0msorted_descriptions\u001b[0m \u001b[0;34m=\u001b[0m \u001b[0msorted\u001b[0m\u001b[0;34m(\u001b[0m\u001b[0mdescriptions_words\u001b[0m\u001b[0;34m.\u001b[0m\u001b[0mitems\u001b[0m\u001b[0;34m(\u001b[0m\u001b[0;34m)\u001b[0m\u001b[0;34m,\u001b[0m \u001b[0mkey\u001b[0m\u001b[0;34m=\u001b[0m\u001b[0moperator\u001b[0m\u001b[0;34m.\u001b[0m\u001b[0mitemgetter\u001b[0m\u001b[0;34m(\u001b[0m\u001b[0;36m1\u001b[0m\u001b[0;34m)\u001b[0m\u001b[0;34m,\u001b[0m \u001b[0mreverse\u001b[0m\u001b[0;34m=\u001b[0m\u001b[0mTrue\u001b[0m \u001b[0;34m)\u001b[0m\u001b[0;34m\u001b[0m\u001b[0m\n\u001b[1;32m     26\u001b[0m \u001b[0;34m\u001b[0m\u001b[0m\n\u001b[0;32m---> 27\u001b[0;31m \u001b[0;32mwith\u001b[0m \u001b[0mopen\u001b[0m\u001b[0;34m(\u001b[0m\u001b[0;34m'./munging-data/requirements_words_freq.csv'\u001b[0m\u001b[0;34m,\u001b[0m\u001b[0;34m'wb'\u001b[0m\u001b[0;34m)\u001b[0m \u001b[0;32mas\u001b[0m \u001b[0mf\u001b[0m \u001b[0;34m:\u001b[0m\u001b[0;34m\u001b[0m\u001b[0m\n\u001b[0m\u001b[1;32m     28\u001b[0m     \u001b[0mf\u001b[0m\u001b[0;34m.\u001b[0m\u001b[0mwrite\u001b[0m\u001b[0;34m(\u001b[0m\u001b[0;34m'word,occurrences\\n'\u001b[0m\u001b[0;34m)\u001b[0m\u001b[0;34m\u001b[0m\u001b[0m\n\u001b[1;32m     29\u001b[0m     \u001b[0;32mfor\u001b[0m \u001b[0mkey\u001b[0m\u001b[0;34m,\u001b[0m\u001b[0mvalue\u001b[0m \u001b[0;32min\u001b[0m \u001b[0msorted_reqirements\u001b[0m\u001b[0;34m:\u001b[0m\u001b[0;34m\u001b[0m\u001b[0m\n",
      "\u001b[0;31mIOError\u001b[0m: [Errno 2] No such file or directory: './munging-data/requirements_words_freq.csv'"
     ]
    }
   ],
   "source": [
    "requirements = data.job_requirements.dropna().reset_index(drop=True)\n",
    "descriptions = data.description.dropna().reset_index(drop=True)\n",
    "\n",
    "requirements = requirements.apply(remove_tags)\n",
    "descriptions = descriptions.apply(remove_tags)\n",
    "\n",
    "requirements_words = {}\n",
    "descriptions_words = {}\n",
    "\n",
    "for k,document in requirements.iteritems():\n",
    "    for word in filter_stem_doc(document):\n",
    "        if word in requirements_words :\n",
    "            requirements_words[word] += 1\n",
    "        else :\n",
    "            requirements_words[word] = 1\n",
    "\n",
    "for k,document in descriptions.iteritems():\n",
    "    for word in filter_stem_doc(document):\n",
    "        if word in descriptions_words :\n",
    "            descriptions_words[word] += 1\n",
    "        else :\n",
    "            descriptions_words[word] = 1\n",
    "    \n",
    "sorted_reqirements = sorted(requirements_words.items(), key=operator.itemgetter(1), reverse=True )\n",
    "sorted_descriptions = sorted(descriptions_words.items(), key=operator.itemgetter(1), reverse=True )\n",
    "\n",
    "with open('./data/generated/munging/requirements_words_freq.csv','wb') as f :\n",
    "    f.write('word,occurrences\\n')\n",
    "    for key,value in sorted_reqirements:\n",
    "        f.write(str(key)+','+str(value)+'\\n')\n",
    "\n",
    "with open('./data/generated/munging/descriptions_words_freq.csv','wb') as f :\n",
    "    f.write('word,occurrences\\n')\n",
    "    for key,value in sorted_descriptions:\n",
    "        f.write(str(key)+','+str(value)+'\\n')"
   ]
  },
  {
   "cell_type": "code",
   "execution_count": null,
   "metadata": {
    "collapsed": false
   },
   "outputs": [],
   "source": []
  }
 ],
 "metadata": {
  "anaconda-cloud": {},
  "kernelspec": {
   "display_name": "Python [default]",
   "language": "python",
   "name": "python2"
  },
  "language_info": {
   "codemirror_mode": {
    "name": "ipython",
    "version": 2
   },
   "file_extension": ".py",
   "mimetype": "text/x-python",
   "name": "python",
   "nbconvert_exporter": "python",
   "pygments_lexer": "ipython2",
   "version": "2.7.12"
  }
 },
 "nbformat": 4,
 "nbformat_minor": 1
}
